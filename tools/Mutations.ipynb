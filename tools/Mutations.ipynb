{
 "cells": [
  {
   "cell_type": "markdown",
   "metadata": {},
   "source": [
    "# Mutations\n",
    "\n",
    "### Problem\n",
    "\n",
    "To test our folding methods on different BM3 mutants, we'd replicate the mutations in the target sequence in the starting sequence. The PyRosetta mutate tool requires the number of the amino acid (the numbering system is different in some poses from different BM3s) and the letter code amino acid to change it to.  The numbering system we use starts at ```MTIKEM...``` but not all the structures have these amino acids, so have a different numbering system. It would be useful to translate any BM3 numbering sytem to ours, so we can easily identify the position of mutations.\n",
    "\n",
    "\n",
    "### Psuedo code\n",
    "\n",
    "Not real code, but it's useful sometimes to make sketches like this. It's a simplified version of what I think a test iteration might look like. First, starting and target poses are made and their sequences are extracted. I think the sequences are taken directly from the structure, so might not be the complete biological sequence. Then we have to find the mutations between the two sequences, which I've been having trouble with. I'll put some things that I tried below. \n",
    "\n",
    "```python\n",
    "starting_pose = pose(BM3wt.pdb)\n",
    "starting_sequence = get_seq(starting_strucutre)\n",
    "\n",
    "target_pose = pose(BM3mutant.pdb)\n",
    "target_sequence = get_seq(target_structure) # not in sync with starting_sequence\n",
    "\n",
    "mutations = find_mutations(starting_sequence, target_sequence)\n",
    "# the pyrosetta mutation tool requires the amino acid number\n",
    "# and the residue to change to\n",
    "\n",
    "mutant_pose = copy(starting_pose)\n",
    "mutant_pose.mutate(mutations) # something like that\n",
    "\n",
    "mutant_pose.fold()\n",
    "\n",
    "score(mutant_pose, target_pose)\n",
    "```\n",
    "\n",
    "\n",
    "### Aim\n",
    "* To make a function that reliably identifies mutations between two BM3 sequences\n",
    "* To return the mutation(s), where the numbering system is adjusted as necesary\n",
    "\n",
    "I've dumped in some functions that I was trying yesterday. The sequences of our (current) mutant group are at ```BM3-Design-PyRosetta/data/sequences/```, so I made some pandas functions to get them. I also looked at using alignments, but I've no idea if that's a good idea or a waste of time. Maybe it would be simpler to just find some conserved residues and search for them to find our sequence offset? Or maybe finding the mutations directly from the sequence isn't a good use of our time and we'd be better off just finding the mutations in literature?\n",
    "\n",
    "\n",
    "### Pandas functions\n",
    "These ones are probably fine, they read in fasta data as a pandas Series, or DataFrame. The DataFrame is good for alignments, because each aa gets a cell so we can use padnas operations to find conservation etc/"
   ]
  },
  {
   "cell_type": "code",
   "execution_count": 1,
   "metadata": {},
   "outputs": [
    {
     "data": {
      "text/plain": [
       "3ekb_clean.pdb    TIKEMPQPKTFGELKNLPLLNTDKPVQALMKIADELGEIFKFEAPG...\n",
       "2nnb_clean.pdb    KEMPQPKTFGELKNLPLLNTDKPVQALMKIADELGEIFKFEAPGRV...\n",
       "3ben_clean.pdb    EMPQPKTFGELKNLPLLNTDKPVQALMKIADELGEIFKFEAPGRVT...\n",
       "1yqo_clean.pdb    KEMPQPKTFGELKNLPLLNTDKPVQALMKIADELGEIFKFEAPGRV...\n",
       "1p0v_clean.pdb    KEMPQPKTFGELKNLPLLNTDKPVQALMKIADELGEIFKFEAPGRV...\n",
       "dtype: object"
      ]
     },
     "execution_count": 1,
     "metadata": {},
     "output_type": "execute_result"
    }
   ],
   "source": [
    "import pandas as pd\n",
    "\n",
    "def FastaToSeries(path):\n",
    "    # opens fasta files, outputs series\n",
    "    # full fasta string in one cell\n",
    "    with open(path,'r') as file:\n",
    "        data = file.read()\n",
    "    data = [i.split('\\n') for i in data.split('>')]\n",
    "    index = [i[0] for i in data][1:] # first item is ''\n",
    "    values = [''.join(i[1:]) for i in data][1:] # first item is []\n",
    "    df = pd.Series(values, index=index)\n",
    "    return df\n",
    "\n",
    "FastaToSeries('../data/sequences/Sequences.fasta').head()"
   ]
  },
  {
   "cell_type": "code",
   "execution_count": 2,
   "metadata": {},
   "outputs": [
    {
     "data": {
      "text/html": [
       "<div>\n",
       "<style scoped>\n",
       "    .dataframe tbody tr th:only-of-type {\n",
       "        vertical-align: middle;\n",
       "    }\n",
       "\n",
       "    .dataframe tbody tr th {\n",
       "        vertical-align: top;\n",
       "    }\n",
       "\n",
       "    .dataframe thead th {\n",
       "        text-align: right;\n",
       "    }\n",
       "</style>\n",
       "<table border=\"1\" class=\"dataframe\">\n",
       "  <thead>\n",
       "    <tr style=\"text-align: right;\">\n",
       "      <th></th>\n",
       "      <th>0</th>\n",
       "      <th>1</th>\n",
       "      <th>2</th>\n",
       "      <th>3</th>\n",
       "      <th>4</th>\n",
       "      <th>5</th>\n",
       "      <th>6</th>\n",
       "      <th>7</th>\n",
       "      <th>8</th>\n",
       "      <th>9</th>\n",
       "      <th>...</th>\n",
       "      <th>469</th>\n",
       "      <th>470</th>\n",
       "      <th>471</th>\n",
       "      <th>472</th>\n",
       "      <th>473</th>\n",
       "      <th>474</th>\n",
       "      <th>475</th>\n",
       "      <th>476</th>\n",
       "      <th>477</th>\n",
       "      <th>478</th>\n",
       "    </tr>\n",
       "  </thead>\n",
       "  <tbody>\n",
       "    <tr>\n",
       "      <th>4dqk_clean.pdb</th>\n",
       "      <td>M</td>\n",
       "      <td>H</td>\n",
       "      <td>G</td>\n",
       "      <td>A</td>\n",
       "      <td>F</td>\n",
       "      <td>S</td>\n",
       "      <td>T</td>\n",
       "      <td>N</td>\n",
       "      <td>V</td>\n",
       "      <td>V</td>\n",
       "      <td>...</td>\n",
       "      <td>A</td>\n",
       "      <td>-</td>\n",
       "      <td>-</td>\n",
       "      <td>-</td>\n",
       "      <td>-</td>\n",
       "      <td>-</td>\n",
       "      <td>-</td>\n",
       "      <td>-</td>\n",
       "      <td>-</td>\n",
       "      <td>-</td>\n",
       "    </tr>\n",
       "    <tr>\n",
       "      <th>4dql_clean.pdb</th>\n",
       "      <td>-</td>\n",
       "      <td>-</td>\n",
       "      <td>G</td>\n",
       "      <td>A</td>\n",
       "      <td>F</td>\n",
       "      <td>S</td>\n",
       "      <td>T</td>\n",
       "      <td>N</td>\n",
       "      <td>V</td>\n",
       "      <td>V</td>\n",
       "      <td>...</td>\n",
       "      <td>A</td>\n",
       "      <td>G</td>\n",
       "      <td>-</td>\n",
       "      <td>-</td>\n",
       "      <td>-</td>\n",
       "      <td>-</td>\n",
       "      <td>-</td>\n",
       "      <td>-</td>\n",
       "      <td>-</td>\n",
       "      <td>-</td>\n",
       "    </tr>\n",
       "    <tr>\n",
       "      <th>3qi8_clean.pdb</th>\n",
       "      <td>-</td>\n",
       "      <td>-</td>\n",
       "      <td>-</td>\n",
       "      <td>-</td>\n",
       "      <td>-</td>\n",
       "      <td>-</td>\n",
       "      <td>-</td>\n",
       "      <td>-</td>\n",
       "      <td>-</td>\n",
       "      <td>-</td>\n",
       "      <td>...</td>\n",
       "      <td>K</td>\n",
       "      <td>K</td>\n",
       "      <td>I</td>\n",
       "      <td>P</td>\n",
       "      <td>L</td>\n",
       "      <td>G</td>\n",
       "      <td>G</td>\n",
       "      <td>I</td>\n",
       "      <td>P</td>\n",
       "      <td>S</td>\n",
       "    </tr>\n",
       "    <tr>\n",
       "      <th>3cbd_clean.pdb</th>\n",
       "      <td>-</td>\n",
       "      <td>-</td>\n",
       "      <td>-</td>\n",
       "      <td>-</td>\n",
       "      <td>-</td>\n",
       "      <td>-</td>\n",
       "      <td>-</td>\n",
       "      <td>-</td>\n",
       "      <td>-</td>\n",
       "      <td>-</td>\n",
       "      <td>...</td>\n",
       "      <td>K</td>\n",
       "      <td>K</td>\n",
       "      <td>I</td>\n",
       "      <td>P</td>\n",
       "      <td>L</td>\n",
       "      <td>-</td>\n",
       "      <td>-</td>\n",
       "      <td>-</td>\n",
       "      <td>-</td>\n",
       "      <td>-</td>\n",
       "    </tr>\n",
       "    <tr>\n",
       "      <th>3psx_clean.pdb</th>\n",
       "      <td>-</td>\n",
       "      <td>-</td>\n",
       "      <td>-</td>\n",
       "      <td>-</td>\n",
       "      <td>-</td>\n",
       "      <td>-</td>\n",
       "      <td>-</td>\n",
       "      <td>-</td>\n",
       "      <td>-</td>\n",
       "      <td>-</td>\n",
       "      <td>...</td>\n",
       "      <td>K</td>\n",
       "      <td>K</td>\n",
       "      <td>I</td>\n",
       "      <td>P</td>\n",
       "      <td>L</td>\n",
       "      <td>-</td>\n",
       "      <td>-</td>\n",
       "      <td>-</td>\n",
       "      <td>-</td>\n",
       "      <td>-</td>\n",
       "    </tr>\n",
       "  </tbody>\n",
       "</table>\n",
       "<p>5 rows × 479 columns</p>\n",
       "</div>"
      ],
      "text/plain": [
       "               0   1   2   3   4   5   6   7   8   9    ... 469 470 471 472  \\\n",
       "4dqk_clean.pdb   M   H   G   A   F   S   T   N   V   V  ...   A   -   -   -   \n",
       "4dql_clean.pdb   -   -   G   A   F   S   T   N   V   V  ...   A   G   -   -   \n",
       "3qi8_clean.pdb   -   -   -   -   -   -   -   -   -   -  ...   K   K   I   P   \n",
       "3cbd_clean.pdb   -   -   -   -   -   -   -   -   -   -  ...   K   K   I   P   \n",
       "3psx_clean.pdb   -   -   -   -   -   -   -   -   -   -  ...   K   K   I   P   \n",
       "\n",
       "               473 474 475 476 477 478  \n",
       "4dqk_clean.pdb   -   -   -   -   -   -  \n",
       "4dql_clean.pdb   -   -   -   -   -   -  \n",
       "3qi8_clean.pdb   L   G   G   I   P   S  \n",
       "3cbd_clean.pdb   L   -   -   -   -   -  \n",
       "3psx_clean.pdb   L   -   -   -   -   -  \n",
       "\n",
       "[5 rows x 479 columns]"
      ]
     },
     "execution_count": 2,
     "metadata": {},
     "output_type": "execute_result"
    }
   ],
   "source": [
    "def FastaToDataFrame(path):\n",
    "    # opens fasta files, outputs dataframe\n",
    "    # good for aligned sequences\n",
    "    with open(path,'r') as file:\n",
    "        data = file.read()\n",
    "    data = [i.split('\\n') for i in data.split('>')]\n",
    "    index = [i[0] for i in data][1:] # first item is ''\n",
    "    values = [list(''.join(i[1:])) for i in data][1:] # first item is []\n",
    "    df = pd.DataFrame(values, index=index)\n",
    "    return df\n",
    "\n",
    "\n",
    "\n",
    "FastaToDataFrame('../data/sequences/Sequences_msa.fasta').head()"
   ]
  },
  {
   "cell_type": "markdown",
   "metadata": {},
   "source": [
    "### Alingments\n",
    "Still not sure this is a good idea! We can put the aligned sequences into a DataFrame  with\n",
    "```python\n",
    "pd.DataFrame([list(seq1), list(seq2)])\n",
    "```\n",
    "\n",
    "and we see that the mutations are offset from eachother, maybe this is solvable??"
   ]
  },
  {
   "cell_type": "code",
   "execution_count": 3,
   "metadata": {},
   "outputs": [
    {
     "data": {
      "text/plain": [
       "{'aln_reference_seq': 'TIKEMPQPKTFGELKNLPLLNTDKPVQALMKIADELGEIFKFEAPGRVTRYLSSQRLIKEACDESRFDKNLSQALKFVRDFAGDGLFTSWTHEKNWKKAHNILLPSFSQQAMKGYHAMMVDIAVQLVQKWERLNADEHIEVPEDMTRLTLDTIGLCGFNYRFNSFYRDQPHPFITSMVRALDEAMNKLQRAN--QFQEDIKVMNDLVDKIIADRKA---QSDDLLTHMLNGKDPETGEPLDDENIRYQIITFLIC-GHETTSGLLSFALYFLVKNPHVLQKAAEEAARVLVDPVPSYKQVKQLKYVGMVLNEALRLWPTAPAFSLYAKEDTVLGGEYPLEKGDELMVLIPQLHRDKTIWGDDVEEFRPERFENPSAIPQHAFKPFGNGQRACIGQ-QFALHEATLVLGMMLKHFDFEDHTNYELDIKETLTLKPEGFVVKAKSKKIPLG',\n",
       " 'aln_query_seq': '--KEMPQPKTFGELKNLPLLNTDKPVQALMKIADELGEIFKFEAPGRVTRYLSSQRLIKEACDESRFDKNLSQALKFVRDFAGDGLFTSWTHEKNWKKAHNILLPSFSQQAMKGYHAMMVDIAVQLVQKWERLNADEHIEVPEDMTRLTLDTIGLCGFNYRFNSFYRDQPHPFITSMVRALDEAMNKL---NKRQFQEDIKVMNDLVDKIIADRKASGEQSDDLLTHMLNGKDPETGEPLDDENIRYQIITFLI-AGHETTSGLLSFALYFLVKNPHVLQKAAEEAARVLVDPVPSYKQVKQLKYVGMVLNEALRLWPTAPAFSLYAKEDTVLGGEYPLEKGDELMVLIPQLHRDKTIWGDDVEEFRPERFENPSAIPQHAFKPFGNGQRACIG-KQFALHEATLVLGMMLKHFDFEDHTNYELDIKETLTLKPEGFVVKAKSKKIPL-',\n",
       " 'aln_score': 434.0}"
      ]
     },
     "execution_count": 3,
     "metadata": {},
     "output_type": "execute_result"
    }
   ],
   "source": [
    "from Bio import pairwise2\n",
    "\n",
    "sequences = FastaToSeries('../data/sequences/Sequences.fasta')\n",
    "\n",
    "\n",
    "def AlignAgainstReferenceSequence(reference_seq, query_seq):\n",
    "    alignments = pairwise2.align.globalxx(reference_seq, query_seq) # makes several alignments\n",
    "    all_scores = [i[2] for i in alignments] # alignments return a list of lists, unpacking items\n",
    "    top_scores_indexes = [i for i,j in enumerate(all_scores) if j ==max(all_scores)]# list of indexes where score is max()\n",
    "    top_alignment = alignments[top_scores_indexes[0]] # Highest scoring first\n",
    "\n",
    "    dictionary = {'aln_reference_seq': top_alignment[0],\n",
    "    'aln_query_seq':top_alignment[1],\n",
    "        'aln_score': top_alignment[2]}\n",
    "    return dictionary\n",
    "\n",
    "AlignAgainstReferenceSequence(sequences[0], sequences[1])"
   ]
  },
  {
   "cell_type": "code",
   "execution_count": 4,
   "metadata": {},
   "outputs": [
    {
     "data": {
      "text/plain": [
       "0.9665924276169265"
      ]
     },
     "execution_count": 4,
     "metadata": {},
     "output_type": "execute_result"
    }
   ],
   "source": [
    "alnmnt = AlignAgainstReferenceSequence(sequences[0], sequences[1])\n",
    "\n",
    "def ResidueConservation(seq1, seq2):\n",
    "    ## takes two aligned sequences\n",
    "    # probably won't work if  they're different lengths\n",
    "    alignment_df = pd.DataFrame([list(seq1), list(seq2)])\n",
    "    alignment_df.replace(' ','-', inplace = True)\n",
    "    conserved_residue_count = 0\n",
    "    for i in alignment_df:\n",
    "        if len(alignment_df[i].unique()) <2:\n",
    "            conserved_residue_count += 1\n",
    "    frac_conserved = conserved_residue_count/len(seq1)\n",
    "    return frac_conserved\n",
    "\n",
    "\n",
    "ResidueConservation(alnmnt['aln_reference_seq'], alnmnt['aln_query_seq'])"
   ]
  },
  {
   "cell_type": "code",
   "execution_count": 5,
   "metadata": {},
   "outputs": [
    {
     "data": {
      "text/plain": [
       "3ekb_clean.pdb    FALHEATLVLGMMLKHFDFE\n",
       "2nnb_clean.pdb    FALHEATLVLGMMLKHFDFE\n",
       "3ben_clean.pdb    GNGQRACIGQQFALHEATLV\n",
       "1yqo_clean.pdb    FALHEATLVLGMMLKHFDFE\n",
       "1p0v_clean.pdb    FALHEATLVLGMMLKHFDFE\n",
       "dtype: object"
      ]
     },
     "execution_count": 5,
     "metadata": {},
     "output_type": "execute_result"
    }
   ],
   "source": [
    "sequences = FastaToSeries('../data/sequences/Sequences.fasta')\n",
    "sequences.apply(lambda x: x[390:410]).head()"
   ]
  },
  {
   "cell_type": "code",
   "execution_count": 6,
   "metadata": {},
   "outputs": [
    {
     "data": {
      "text/plain": [
       "3ekb_clean.pdb    15\n",
       "2nnb_clean.pdb    15\n",
       "3ben_clean.pdb     4\n",
       "1yqo_clean.pdb    15\n",
       "1p0v_clean.pdb    15\n",
       "dtype: int64"
      ]
     },
     "execution_count": 6,
     "metadata": {},
     "output_type": "execute_result"
    }
   ],
   "source": [
    "offsets = sequences.apply(lambda x: 398 - x.find('RACIG')) # conserved cys 400 motif\n",
    "offsets.head()"
   ]
  },
  {
   "cell_type": "code",
   "execution_count": 7,
   "metadata": {},
   "outputs": [
    {
     "data": {
      "text/plain": [
       "3ekb_clean.pdb    -TIKEMPQPKTFGELKNLPLLNTDKPVQALMKIADELGEIFKFEAP...\n",
       "2nnb_clean.pdb    ---KEMPQPKTFGELKNLPLLNTDKPVQALMKIADELGEIFKFEAP...\n",
       "3ben_clean.pdb    ----EMPQPKTFGELKNLPLLNTDKPVQALMKIADELGEIFKFEAP...\n",
       "1yqo_clean.pdb    ---KEMPQPKTFGELKNLPLLNTDKPVQALMKIADELGEIFKFEAP...\n",
       "1p0v_clean.pdb    ---KEMPQPKTFGELKNLPLLNTDKPVQALMKIADELGEIFKFEAP...\n",
       "dtype: object"
      ]
     },
     "execution_count": 7,
     "metadata": {},
     "output_type": "execute_result"
    }
   ],
   "source": [
    "def ReNumber(seq):\n",
    "    offset = seq.find('LPLL') # reference point in first 20 aa's\n",
    "    seq = '-'*(17-offset)+seq\n",
    "    return seq\n",
    "    \n",
    "sequences.apply(ReNumber).head()"
   ]
  },
  {
   "cell_type": "code",
   "execution_count": 8,
   "metadata": {},
   "outputs": [
    {
     "data": {
      "text/html": [
       "<div>\n",
       "<style scoped>\n",
       "    .dataframe tbody tr th:only-of-type {\n",
       "        vertical-align: middle;\n",
       "    }\n",
       "\n",
       "    .dataframe tbody tr th {\n",
       "        vertical-align: top;\n",
       "    }\n",
       "\n",
       "    .dataframe thead th {\n",
       "        text-align: right;\n",
       "    }\n",
       "</style>\n",
       "<table border=\"1\" class=\"dataframe\">\n",
       "  <thead>\n",
       "    <tr style=\"text-align: right;\">\n",
       "      <th></th>\n",
       "      <th>395</th>\n",
       "      <th>396</th>\n",
       "      <th>397</th>\n",
       "      <th>398</th>\n",
       "      <th>399</th>\n",
       "      <th>400</th>\n",
       "      <th>401</th>\n",
       "      <th>402</th>\n",
       "      <th>403</th>\n",
       "      <th>404</th>\n",
       "      <th>405</th>\n",
       "    </tr>\n",
       "  </thead>\n",
       "  <tbody>\n",
       "    <tr>\n",
       "      <th>3ekb_clean.pdb</th>\n",
       "      <td>E</td>\n",
       "      <td>A</td>\n",
       "      <td>T</td>\n",
       "      <td>L</td>\n",
       "      <td>V</td>\n",
       "      <td>L</td>\n",
       "      <td>G</td>\n",
       "      <td>M</td>\n",
       "      <td>M</td>\n",
       "      <td>L</td>\n",
       "      <td>K</td>\n",
       "    </tr>\n",
       "    <tr>\n",
       "      <th>2nnb_clean.pdb</th>\n",
       "      <td>L</td>\n",
       "      <td>H</td>\n",
       "      <td>E</td>\n",
       "      <td>A</td>\n",
       "      <td>T</td>\n",
       "      <td>L</td>\n",
       "      <td>V</td>\n",
       "      <td>L</td>\n",
       "      <td>G</td>\n",
       "      <td>M</td>\n",
       "      <td>M</td>\n",
       "    </tr>\n",
       "    <tr>\n",
       "      <th>3ben_clean.pdb</th>\n",
       "      <td>N</td>\n",
       "      <td>G</td>\n",
       "      <td>Q</td>\n",
       "      <td>R</td>\n",
       "      <td>A</td>\n",
       "      <td>C</td>\n",
       "      <td>I</td>\n",
       "      <td>G</td>\n",
       "      <td>Q</td>\n",
       "      <td>Q</td>\n",
       "      <td>F</td>\n",
       "    </tr>\n",
       "    <tr>\n",
       "      <th>1yqo_clean.pdb</th>\n",
       "      <td>L</td>\n",
       "      <td>H</td>\n",
       "      <td>E</td>\n",
       "      <td>A</td>\n",
       "      <td>T</td>\n",
       "      <td>L</td>\n",
       "      <td>V</td>\n",
       "      <td>L</td>\n",
       "      <td>G</td>\n",
       "      <td>M</td>\n",
       "      <td>M</td>\n",
       "    </tr>\n",
       "    <tr>\n",
       "      <th>1p0v_clean.pdb</th>\n",
       "      <td>L</td>\n",
       "      <td>H</td>\n",
       "      <td>E</td>\n",
       "      <td>A</td>\n",
       "      <td>T</td>\n",
       "      <td>L</td>\n",
       "      <td>V</td>\n",
       "      <td>L</td>\n",
       "      <td>G</td>\n",
       "      <td>M</td>\n",
       "      <td>M</td>\n",
       "    </tr>\n",
       "  </tbody>\n",
       "</table>\n",
       "</div>"
      ],
      "text/plain": [
       "               395 396 397 398 399 400 401 402 403 404 405\n",
       "3ekb_clean.pdb   E   A   T   L   V   L   G   M   M   L   K\n",
       "2nnb_clean.pdb   L   H   E   A   T   L   V   L   G   M   M\n",
       "3ben_clean.pdb   N   G   Q   R   A   C   I   G   Q   Q   F\n",
       "1yqo_clean.pdb   L   H   E   A   T   L   V   L   G   M   M\n",
       "1p0v_clean.pdb   L   H   E   A   T   L   V   L   G   M   M"
      ]
     },
     "execution_count": 8,
     "metadata": {},
     "output_type": "execute_result"
    }
   ],
   "source": [
    "# checking if motif \"RACIG\" appears in the same place in all sequences\n",
    "# It doesn't!\n",
    "\n",
    "renumbered = sequences.apply(ReNumber)\n",
    "renumbered = pd.DataFrame(list(i) for i in renumbered)\n",
    "renumbered.index = sequences.index\n",
    "renumbered.loc[:,395:405].head()"
   ]
  },
  {
   "cell_type": "code",
   "execution_count": 9,
   "metadata": {},
   "outputs": [
    {
     "data": {
      "text/plain": [
       "'---KEMPQPKTFGELKNLPLLNTDKPVQALMKIADELGEIFKFEAPGRVTRYLSSQRL----IKEACDESRFDKNLSQALKFVRDFAGDGLFTSWTHEKNWKKAHNILLPSFSQQAMKGYHAMMVDIAVQLVQ----KWERLNADEHIEVPEDMTRLTLDTIGLCGFNYRFNSFYRDQPHPFITSMVRALDEAMNKL----------------NKRQFQEDIKVMNDLVDKIIADRKASGEQSDDLLTHMLNGKDPETGEPLDDENIRYQIITFLIAGHE-ATS----GLLSFALYFLVKNPHVLQKAAEEAARVLVDPVPSYKQVKQLKYVGMVLNEALRLWPTAPAFSLYAKEDTVL----GGEYPLEKGDELMVLIPQLHRDKTIWGDDVEEFRPERFENPSAIPQHAFKPFGNGQRACIGQQFALHEATL----VLGMMLKHFDFEDHTNYELDIKETLTLKPEGFVVKAKSKKIPL--------------------'"
      ]
     },
     "execution_count": 9,
     "metadata": {},
     "output_type": "execute_result"
    }
   ],
   "source": [
    "def aln_renumber(seq):\n",
    "    ref_seq = '''MTIKEMPQPKTFGELKNLPLLNTDKPVQALMKIADELGEIFKFEAPGRVTRYLSSQRL\\\n",
    "    IKEACDESRFDKNLSQALKFVRDFAGDGLFTSWTHEKNWKKAHNILLPSFSQQAMKGYHAMMVDIAVQLVQ\\\n",
    "    KWERLNADEHIEVPEDMTRLTLDTIGLCGFNYRFNSFYRDQPHPFITSMVRALDEAMNKLQRANPDDPAYD\\\n",
    "    ENKRQFQEDIKVMNDLVDKIIADRKASGEQSDDLLTHMLNGKDPETGEPLDDENIRYQIITFLIAGHETTS\\\n",
    "    GLLSFALYFLVKNPHVLQKAAEEAARVLVDPVPSYKQVKQLKYVGMVLNEALRLWPTAPAFSLYAKEDTVL\\\n",
    "    GGEYPLEKGDELMVLIPQLHRDKTIWGDDVEEFRPERFENPSAIPQHAFKPFGNGQRACIGQQFALHEATL\\\n",
    "    VLGMMLKHFDFEDHTNYELDIKETLTLKPEGFVVKAKSKKIPLGGIPSPSTEQSAKKVRKKGC'''\n",
    "    aln = AlignAgainstReferenceSequence(ref_seq, seq)\n",
    "    aln_seq = aln['aln_query_seq']\n",
    "    return aln_seq\n",
    "\n",
    "aln_renumber(sequences['1yqo_clean.pdb'])"
   ]
  },
  {
   "cell_type": "code",
   "execution_count": 10,
   "metadata": {},
   "outputs": [
    {
     "data": {
      "text/plain": [
       "\u001b[0;31mType:\u001b[0m        align\n",
       "\u001b[0;31mString form:\u001b[0m <Bio.pairwise2.align object at 0x7f3c4a7dea10>\n",
       "\u001b[0;31mFile:\u001b[0m        ~/anaconda3/lib/python3.7/site-packages/Bio/pairwise2.py\n",
       "\u001b[0;31mDocstring:\u001b[0m  \n",
       "Provide functions that do alignments.\n",
       "\n",
       "Alignment functions are called as:\n",
       "\n",
       "  pairwise2.align.globalXX\n",
       "\n",
       "or\n",
       "\n",
       "  pairwise2.align.localXX\n",
       "\n",
       "Where XX is a 2 character code indicating the match/mismatch parameters\n",
       "(first character, either x, m, d or c) and the gap penalty parameters\n",
       "(second character, either x, s, d, or c).\n",
       "\n",
       "For a detailed description read the main module's docstring (e.g.,\n",
       "type ``help(pairwise2)``).\n",
       "To see a description of the parameters for a function, please\n",
       "look at the docstring for the function, e.g. type\n",
       "``help(pairwise2.align.localds)`` at the Python prompt.\n"
      ]
     },
     "metadata": {},
     "output_type": "display_data"
    }
   ],
   "source": [
    "?pairwise2.align"
   ]
  },
  {
   "cell_type": "code",
   "execution_count": 12,
   "metadata": {},
   "outputs": [
    {
     "name": "stdout",
     "output_type": "stream",
     "text": [
      "MTIKEMPQPKTFGELKNLPLLNTDKPVQALMKIADELGE-IFKFEAPGRV---------\n",
      "---KEMPQPKTFGELKNLPLLNTDKPVQALM-IAD--G-HIFKFEAPGRVTRYLSSQRL\n",
      "---KEMPQPKTFGELKNLPLLNTDKPVQALAD--IFKFEAPGRVTRYLSSQRL\n"
     ]
    }
   ],
   "source": [
    "import re\n",
    "\n",
    "ref_seq = '''MTIKEMPQPKTFGELKNLPLLNTDKPVQALMKIADELGEIFKFEAPGRVTRYLSSQRL\\\n",
    "    IKEACDESRFDKNLSQALKFVRDFAGDGLFTSWTHEKNWKKAHNILLPSFSQQAMKGYHAMMVDIAVQLVQ\\\n",
    "    KWERLNADEHIEVPEDMTRLTLDTIGLCGFNYRFNSFYRDQPHPFITSMVRALDEAMNKLQRANPDDPAYD\\\n",
    "    ENKRQFQEDIKVMNDLVDKIIADRKASGEQSDDLLTHMLNGKDPETGEPLDDENIRYQIITFLIAGHETTS\\\n",
    "    GLLSFALYFLVKNPHVLQKAAEEAARVLVDPVPSYKQVKQLKYVGMVLNEALRLWPTAPAFSLYAKEDTVL\\\n",
    "    GGEYPLEKGDELMVLIPQLHRDKTIWGDDVEEFRPERFENPSAIPQHAFKPFGNGQRACIGQQFALHEATL\\\n",
    "    VLGMMLKHFDFEDHTNYELDIKETLTLKPEGFVVKAKSKKIPLGGIPSPSTEQSAKKVRKKGC'''.replace(' ','')\n",
    "\n",
    "# ?pairwise2.align.globalmd\n",
    "# globalmd(sequenceA, sequenceB, match, mismatch, openA, extendA, openB, extendB) -> alignments\n",
    "\n",
    "'''\n",
    "gap_A_fn and gap_B_fn are callback functions that takes\n",
    "(1) the index where the gap is opened, and (2) the length\n",
    "of the gap.  They should return a gap penalty\n",
    "'''\n",
    "\n",
    "def gap_A_fn(index, length):\n",
    "    if length  == 0:\n",
    "        return 0\n",
    "    else:\n",
    "        return 1\n",
    "\n",
    "def gap_B_fn(index, length):\n",
    "    if length  == 0:\n",
    "        return 0\n",
    "    else:\n",
    "        return 1\n",
    "\n",
    "match = 1\n",
    "mismatch = -5\n",
    "openA = -1\n",
    "extendA = -1\n",
    "openB = -1\n",
    "extendB = -1\n",
    "\n",
    "# ref_seq, sequences['1yqo_clean.pdb']\n",
    "\n",
    "alns = pairwise2.align.globalxx(   'MTIKEMPQPKTFGELKNLPLLNTDKPVQALMKIADELGEIFKFEAPGRV', \n",
    "                                'KEMPQPKTFGELKNLPLLNTDKPVQALMIADGHIFKFEAPGRVTRYLSSQRL',\n",
    "                               penalize_end_gaps = False,\n",
    "                               gap_char = '-')\n",
    "\n",
    "s1, s2, _,_,_ = alns[0]\n",
    "print(s1)\n",
    "print(s2)\n",
    "\n",
    "d = dict([(i,j) for i,j in enumerate(re.sub('\\w-\\w','',s2),1)  if  j != '-'])\n",
    "\n",
    "print(re.sub('\\w-\\w','',s2))"
   ]
  },
  {
   "cell_type": "code",
   "execution_count": 31,
   "metadata": {},
   "outputs": [
    {
     "name": "stdout",
     "output_type": "stream",
     "text": [
      " \t Ref   Match\n",
      "0 \t M \t -\n",
      "1 \t T \t T\n",
      "2 \t I \t I\n",
      "3 \t K \t K\n",
      "4 \t E \t E\n",
      "5 \t M \t M\n",
      "6 \t P \t P\n",
      "7 \t Q \t Q\n",
      "8 \t P \t P\n",
      "9 \t K \t K\n",
      "10 \t T \t T\n",
      "11 \t F \t F\n",
      "12 \t G \t G\n",
      "13 \t E \t E\n",
      "14 \t L \t L\n",
      "15 \t K \t K\n",
      "16 \t N \t N\n",
      "17 \t L \t L\n",
      "18 \t P \t P\n",
      "19 \t L \t L\n",
      "20 \t L \t L\n",
      "21 \t N \t N\n"
     ]
    }
   ],
   "source": [
    "def renumber(s1,s2):\n",
    "    alns = pairwise2.align.globalxx(s1,s2,penalize_end_gaps = False, one_alignment_only=True)\n",
    "    s1, s2, _,_,_ = alns[0]\n",
    "    s1 = re.sub('\\w-\\w','',s1)\n",
    "    s2 = re.sub('\\w-\\w','',s2)\n",
    "    return dict(enumerate(s1,0)), dict(enumerate(s2,0))\n",
    "    \n",
    "\n",
    "d1, d2 = renumber(ref_seq, sequences.sample().item())\n",
    "\n",
    "print(' \\t','Ref ',' Match')\n",
    "for i,j in zip(d1,d2):\n",
    "    print(i,'\\t',d1[i],'\\t',d2[j])\n",
    "    if i > 20:\n",
    "        break"
   ]
  }
 ],
 "metadata": {
  "kernelspec": {
   "display_name": "Python 3",
   "language": "python",
   "name": "python3"
  },
  "language_info": {
   "codemirror_mode": {
    "name": "ipython",
    "version": 3
   },
   "file_extension": ".py",
   "mimetype": "text/x-python",
   "name": "python",
   "nbconvert_exporter": "python",
   "pygments_lexer": "ipython3",
   "version": "3.7.6"
  }
 },
 "nbformat": 4,
 "nbformat_minor": 4
}
