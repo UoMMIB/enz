{
 "cells": [
  {
   "cell_type": "code",
   "execution_count": 1,
   "metadata": {},
   "outputs": [
    {
     "name": "stderr",
     "output_type": "stream",
     "text": [
      "/home/james/Documents/Rosetta/pyrosettaVenv/lib/python3.7/site-packages/skbio/alignment/_pairwise.py:599: EfficiencyWarning: You're using skbio's python implementation of Needleman-Wunsch alignment. This is known to be very slow (e.g., thousands of times slower than a native C implementation). We'll be adding a faster version soon (see https://github.com/biocore/scikit-bio/issues/254 to track progress on this).\n",
      "  \"to track progress on this).\", EfficiencyWarning)\n"
     ]
    },
    {
     "data": {
      "text/plain": [
       "(TabularMSA[Protein]\n",
       " -----------------------------------------------------------------------\n",
       " Stats:\n",
       "     sequence count: 2\n",
       "     position count: 457\n",
       " -----------------------------------------------------------------------\n",
       " TIKEMPQPKTFGELKNLPLLNTDKPVQALMKIA ... DHTNYELDIKETLTLKPEGFVVKAKSKKIPL--\n",
       " -IKEMPQPKTFGELKNLPLLNTDKPVQALMKIA ... DHTNYELDIKETLLLKPEGFVVKAKSKKIPLGG,\n",
       " 2979.0,\n",
       " [(0, 451), (0, 455)])"
      ]
     },
     "execution_count": 1,
     "metadata": {},
     "output_type": "execute_result"
    }
   ],
   "source": [
    "import pandas as pd\n",
    "import skbio\n",
    "\n",
    "def FastaToSeries(path):\n",
    "    # opens fasta files, outputs series\n",
    "    # full fasta string in one cell\n",
    "    with open(path,'r') as file:\n",
    "        data = file.read()\n",
    "    data = [i.split('\\n') for i in data.split('>')]\n",
    "    index = [i[0] for i in data][1:] # first item is ''\n",
    "    values = [''.join(i[1:]) for i in data][1:] # first item is []\n",
    "    df = pd.Series(values, index=index)\n",
    "    return df\n",
    "\n",
    "sequences = FastaToSeries('../data/sequences/Sequences.fasta')\n",
    "\n",
    "s1 = skbio.Protein(sequences.sample().item())\n",
    "s2 = skbio.Protein(sequences.sample().item())\n",
    "\n",
    "\n",
    "aln = skbio.alignment.global_pairwise_align_protein(s1,s2)\n",
    "aln"
   ]
  },
  {
   "cell_type": "code",
   "execution_count": 2,
   "metadata": {
    "scrolled": false
   },
   "outputs": [
    {
     "name": "stdout",
     "output_type": "stream",
     "text": [
      "TIKEMPQPKTFGELKNLPLLNTDKPVQALMKIADELGEIFKFEAPGRVTRYLSSQRLIKE\n",
      "-IKEMPQPKTFGELKNLPLLNTDKPVQALMKIADELGEIFKFEAPGRVTCYLSSQRLIKE\n"
     ]
    }
   ],
   "source": [
    "aln_s1 = ''.join([i.decode() for i in aln[0].loc[0].values])\n",
    "aln_s2 = ''.join([i.decode() for i in aln[0].loc[1].values])\n",
    "\n",
    "print(aln_s1[0:60])\n",
    "print(aln_s2[0:60])"
   ]
  },
  {
   "cell_type": "code",
   "execution_count": 5,
   "metadata": {
    "scrolled": false
   },
   "outputs": [
    {
     "name": "stdout",
     "output_type": "stream",
     "text": [
      "0 \t T \t -\n",
      "49 \t R \t C\n",
      "86 \t F \t L\n",
      "242 \t - \t P\n",
      "243 \t - \t E\n",
      "244 \t - \t T\n",
      "267 \t T \t S\n",
      "437 \t T \t L\n",
      "455 \t - \t G\n",
      "456 \t - \t G\n"
     ]
    }
   ],
   "source": [
    "for (i1, i2),(j1,j2) in zip(enumerate(aln_s1), enumerate(aln_s2)):\n",
    "    if i2 != j2:\n",
    "        print(i1,'\\t',i2,'\\t',j2)"
   ]
  },
  {
   "cell_type": "code",
   "execution_count": null,
   "metadata": {},
   "outputs": [],
   "source": []
  }
 ],
 "metadata": {
  "kernelspec": {
   "display_name": "Python 3",
   "language": "python",
   "name": "python3"
  },
  "language_info": {
   "codemirror_mode": {
    "name": "ipython",
    "version": 3
   },
   "file_extension": ".py",
   "mimetype": "text/x-python",
   "name": "python",
   "nbconvert_exporter": "python",
   "pygments_lexer": "ipython3",
   "version": "3.7.6"
  }
 },
 "nbformat": 4,
 "nbformat_minor": 4
}
