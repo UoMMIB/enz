{
 "cells": [
  {
   "cell_type": "code",
   "execution_count": 1,
   "metadata": {},
   "outputs": [
    {
     "data": {
      "text/plain": [
       "\u001b[0;31mType:\u001b[0m        module\n",
       "\u001b[0;31mString form:\u001b[0m <module 'oddt.docking' from '/home/james/anaconda3/envs/bm3/lib/python3.6/site-packages/oddt/docking/__init__.py'>\n",
       "\u001b[0;31mFile:\u001b[0m        ~/anaconda3/envs/bm3/lib/python3.6/site-packages/oddt/docking/__init__.py\n",
       "\u001b[0;31mDocstring:\u001b[0m   <no docstring>\n"
      ]
     },
     "metadata": {},
     "output_type": "display_data"
    }
   ],
   "source": [
    "import oddt\n",
    "from oddt import docking\n",
    "?docking"
   ]
  },
  {
   "cell_type": "code",
   "execution_count": null,
   "metadata": {},
   "outputs": [],
   "source": [
    "path = '../data/clean/1jme_clean.pdb'\n",
    "\n",
    "from oddt import "
   ]
  },
  {
   "cell_type": "code",
   "execution_count": 16,
   "metadata": {},
   "outputs": [
    {
     "data": {
      "text/plain": [
       "['OBMol',\n",
       " '_OBMol',\n",
       " '__class__',\n",
       " '__delattr__',\n",
       " '__dict__',\n",
       " '__dir__',\n",
       " '__doc__',\n",
       " '__eq__',\n",
       " '__format__',\n",
       " '__ge__',\n",
       " '__getattr__',\n",
       " '__getattribute__',\n",
       " '__getstate__',\n",
       " '__gt__',\n",
       " '__hash__',\n",
       " '__init__',\n",
       " '__init_subclass__',\n",
       " '__iter__',\n",
       " '__le__',\n",
       " '__lt__',\n",
       " '__module__',\n",
       " '__ne__',\n",
       " '__new__',\n",
       " '__reduce__',\n",
       " '__reduce_ex__',\n",
       " '__repr__',\n",
       " '__setattr__',\n",
       " '__setstate__',\n",
       " '__sizeof__',\n",
       " '__str__',\n",
       " '__subclasshook__',\n",
       " '__weakref__',\n",
       " '_atom_dict',\n",
       " '_charges',\n",
       " '_cinfony',\n",
       " '_clear_cache',\n",
       " '_coords',\n",
       " '_dicts',\n",
       " '_exchange',\n",
       " '_gettitle',\n",
       " '_protein',\n",
       " '_repr_html_',\n",
       " '_repr_png_',\n",
       " '_repr_svg_',\n",
       " '_res_dict',\n",
       " '_ring_dict',\n",
       " '_settitle',\n",
       " '_source',\n",
       " 'addh',\n",
       " 'atom_dict',\n",
       " 'atoms',\n",
       " 'bonds',\n",
       " 'calccharges',\n",
       " 'calcdesc',\n",
       " 'calcfp',\n",
       " 'canonic_order',\n",
       " 'charge',\n",
       " 'charges',\n",
       " 'clone',\n",
       " 'clone_coords',\n",
       " 'conformers',\n",
       " 'convertdbonds',\n",
       " 'coords',\n",
       " 'data',\n",
       " 'dim',\n",
       " 'draw',\n",
       " 'energy',\n",
       " 'exactmass',\n",
       " 'formula',\n",
       " 'localopt',\n",
       " 'make2D',\n",
       " 'make3D',\n",
       " 'molwt',\n",
       " 'num_rotors',\n",
       " 'protein',\n",
       " 'removeh',\n",
       " 'res_dict',\n",
       " 'residues',\n",
       " 'ring_dict',\n",
       " 'smiles',\n",
       " 'spin',\n",
       " 'sssr',\n",
       " 'title',\n",
       " 'unitcell',\n",
       " 'write']"
      ]
     },
     "execution_count": 16,
     "metadata": {},
     "output_type": "execute_result"
    }
   ],
   "source": [
    "mol = oddt.toolkit.readstring('smi', 'c1ccccc1')\n",
    "dir(mol)"
   ]
  }
 ],
 "metadata": {
  "kernelspec": {
   "display_name": "Python [conda env:bm3]",
   "language": "python",
   "name": "conda-env-bm3-py"
  },
  "language_info": {
   "codemirror_mode": {
    "name": "ipython",
    "version": 3
   },
   "file_extension": ".py",
   "mimetype": "text/x-python",
   "name": "python",
   "nbconvert_exporter": "python",
   "pygments_lexer": "ipython3",
   "version": "3.6.10"
  }
 },
 "nbformat": 4,
 "nbformat_minor": 4
}
